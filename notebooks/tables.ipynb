{
 "cells": [
  {
   "cell_type": "markdown",
   "metadata": {},
   "source": [
    "# Produce the tables for the README.md of PMQD\n",
    "\n",
    "This notebook requires `numpy`, `pandas` and `tabulate`. Uncomment below to install the requirements."
   ]
  },
  {
   "cell_type": "code",
   "execution_count": null,
   "metadata": {},
   "outputs": [],
   "source": [
    "!pip install numpy pandas tabulate gcsfs"
   ]
  },
  {
   "cell_type": "code",
   "execution_count": 5,
   "metadata": {},
   "outputs": [],
   "source": [
    "import numpy as np\n",
    "import pandas as pd"
   ]
  },
  {
   "cell_type": "code",
   "execution_count": 6,
   "metadata": {},
   "outputs": [
    {
     "data": {
      "text/html": [
       "<div>\n",
       "<style scoped>\n",
       "    .dataframe tbody tr th:only-of-type {\n",
       "        vertical-align: middle;\n",
       "    }\n",
       "\n",
       "    .dataframe tbody tr th {\n",
       "        vertical-align: top;\n",
       "    }\n",
       "\n",
       "    .dataframe thead th {\n",
       "        text-align: right;\n",
       "    }\n",
       "</style>\n",
       "<table border=\"1\" class=\"dataframe\">\n",
       "  <thead>\n",
       "    <tr style=\"text-align: right;\">\n",
       "      <th></th>\n",
       "      <th>genre</th>\n",
       "      <th>artist</th>\n",
       "      <th>title</th>\n",
       "      <th>degradation_type</th>\n",
       "      <th>degradation_intensity</th>\n",
       "      <th>rating</th>\n",
       "      <th>sample_start</th>\n",
       "      <th>sample_filename</th>\n",
       "    </tr>\n",
       "    <tr>\n",
       "      <th>id</th>\n",
       "      <th></th>\n",
       "      <th></th>\n",
       "      <th></th>\n",
       "      <th></th>\n",
       "      <th></th>\n",
       "      <th></th>\n",
       "      <th></th>\n",
       "      <th></th>\n",
       "    </tr>\n",
       "  </thead>\n",
       "  <tbody>\n",
       "    <tr>\n",
       "      <th>459</th>\n",
       "      <td>Acoustic</td>\n",
       "      <td>Emily Rubye</td>\n",
       "      <td>Wish You Were Here (Scaled Down Version)</td>\n",
       "      <td>limiter</td>\n",
       "      <td>45.128028</td>\n",
       "      <td>4.0</td>\n",
       "      <td>118</td>\n",
       "      <td>897cf1c0361a4eb3a84486b16944d2e7.wav</td>\n",
       "    </tr>\n",
       "    <tr>\n",
       "      <th>920</th>\n",
       "      <td>Classical</td>\n",
       "      <td>Traditional</td>\n",
       "      <td>Mendelson On Wings Of Song</td>\n",
       "      <td>noise</td>\n",
       "      <td>47.615986</td>\n",
       "      <td>3.0</td>\n",
       "      <td>11</td>\n",
       "      <td>f2f260f71ee64405b7b3439894a91743.wav</td>\n",
       "    </tr>\n",
       "    <tr>\n",
       "      <th>47</th>\n",
       "      <td>Pop</td>\n",
       "      <td>Happy Republic</td>\n",
       "      <td>Illuminate The Night (Instrumental Version)</td>\n",
       "      <td>original</td>\n",
       "      <td>0.000000</td>\n",
       "      <td>4.0</td>\n",
       "      <td>68</td>\n",
       "      <td>6f4f49977a6541ffa2492480aceed778.wav</td>\n",
       "    </tr>\n",
       "    <tr>\n",
       "      <th>877</th>\n",
       "      <td>Hip Hop</td>\n",
       "      <td>Dylan Sitts</td>\n",
       "      <td>Rotation</td>\n",
       "      <td>noise</td>\n",
       "      <td>34.263129</td>\n",
       "      <td>4.0</td>\n",
       "      <td>21</td>\n",
       "      <td>04ef854f20944d49bd6041fd4fb0ce49.wav</td>\n",
       "    </tr>\n",
       "    <tr>\n",
       "      <th>732</th>\n",
       "      <td>Country</td>\n",
       "      <td>Victor Olsson</td>\n",
       "      <td>On The Farm 2</td>\n",
       "      <td>lowpass</td>\n",
       "      <td>0.732528</td>\n",
       "      <td>4.0</td>\n",
       "      <td>108</td>\n",
       "      <td>9a616793dcaa4a9e8c2cbe69d30a26e5.wav</td>\n",
       "    </tr>\n",
       "  </tbody>\n",
       "</table>\n",
       "</div>"
      ],
      "text/plain": [
       "         genre          artist                                        title  \\\n",
       "id                                                                            \n",
       "459   Acoustic     Emily Rubye     Wish You Were Here (Scaled Down Version)   \n",
       "920  Classical     Traditional                   Mendelson On Wings Of Song   \n",
       "47         Pop  Happy Republic  Illuminate The Night (Instrumental Version)   \n",
       "877    Hip Hop     Dylan Sitts                                     Rotation   \n",
       "732    Country   Victor Olsson                                On The Farm 2   \n",
       "\n",
       "    degradation_type  degradation_intensity  rating  sample_start  \\\n",
       "id                                                                  \n",
       "459          limiter              45.128028     4.0           118   \n",
       "920            noise              47.615986     3.0            11   \n",
       "47          original               0.000000     4.0            68   \n",
       "877            noise              34.263129     4.0            21   \n",
       "732          lowpass               0.732528     4.0           108   \n",
       "\n",
       "                          sample_filename  \n",
       "id                                         \n",
       "459  897cf1c0361a4eb3a84486b16944d2e7.wav  \n",
       "920  f2f260f71ee64405b7b3439894a91743.wav  \n",
       "47   6f4f49977a6541ffa2492480aceed778.wav  \n",
       "877  04ef854f20944d49bd6041fd4fb0ce49.wav  \n",
       "732  9a616793dcaa4a9e8c2cbe69d30a26e5.wav  "
      ]
     },
     "execution_count": 6,
     "metadata": {},
     "output_type": "execute_result"
    }
   ],
   "source": [
    "metadata = pd.read_csv(\"gs://pmqd/pmqd.csv\", index_col=\"id\")\n",
    "metadata.sample(n=5)"
   ]
  },
  {
   "cell_type": "code",
   "execution_count": 7,
   "metadata": {},
   "outputs": [
    {
     "name": "stdout",
     "output_type": "stream",
     "text": [
      "| Genre               | Count   |\n",
      "|:--------------------|:--------|\n",
      "| Acoustic            | 75      |\n",
      "| Blues               | 75      |\n",
      "| Classical           | 75      |\n",
      "| Country             | 75      |\n",
      "| Electronica & Dance | 75      |\n",
      "| Funk                | 75      |\n",
      "| Hip Hop             | 75      |\n",
      "| Jazz                | 75      |\n",
      "| Latin               | 75      |\n",
      "| Pop                 | 75      |\n",
      "| Reggae              | 75      |\n",
      "| Rnb & Soul          | 75      |\n",
      "| Rock                | 75      |\n",
      "| **All**             | **975** |\n"
     ]
    }
   ],
   "source": [
    "counts_by_genre = metadata.groupby(\"genre\")[\"title\"].count().reset_index()\n",
    "counts_by_genre = counts_by_genre.rename(columns={\"genre\": \"Genre\", \"title\": \"Count\"})\n",
    "counts_by_genre = counts_by_genre.append(\n",
    "    {\"Count\": f\"**{len(metadata)}**\", \"Genre\": \"**All**\"}, ignore_index=True)\n",
    "print(counts_by_genre.to_markdown(index=False))"
   ]
  },
  {
   "cell_type": "code",
   "execution_count": 8,
   "metadata": {},
   "outputs": [
    {
     "name": "stdout",
     "output_type": "stream",
     "text": [
      "Rating by degradation type and intensity\n",
      "\n",
      "| Degradation intensity   |   Distortion |   Limiter |   Lowpass |   Noise |   Original |\n",
      "|:------------------------|-------------:|----------:|----------:|--------:|-----------:|\n",
      "| [0.0, 20.0)             |         3.05 |      4.04 |      3.97 |    3.47 |       4.02 |\n",
      "| [20.0, 40.0)            |         2.69 |      3.72 |      4.00 |    3.00 |       -    |\n",
      "| [40.0, 60.0)            |         2.39 |      3.86 |      3.82 |    2.37 |       -    |\n",
      "| [60.0, 80.0)            |         2.17 |      3.90 |      3.55 |    1.78 |       -    |\n",
      "| [80.0, 100.0)           |         1.59 |      3.74 |      3.31 |    1.37 |       -    |\n"
     ]
    }
   ],
   "source": [
    "n = 5\n",
    "metadata[\"degradation_intensity_range\"] = pd.cut(\n",
    "    metadata[\"degradation_intensity\"],\n",
    "    bins=np.linspace(0, 100, n + 1),\n",
    "    right=False,\n",
    ")\n",
    "\n",
    "degradation_keys = [\"degradation_type\", \"degradation_intensity_range\"]\n",
    "rating_by_degradation = metadata.groupby(degradation_keys)[\"rating\"].mean().reset_index()\n",
    "rating_by_degradation = rating_by_degradation.pivot(\n",
    "    index=\"degradation_intensity_range\", columns=\"degradation_type\")\n",
    "rating_by_degradation.columns = rating_by_degradation.columns.droplevel()\n",
    "rating_by_degradation.index.name = \"Degradation intensity\"\n",
    "rating_by_degradation.columns = rating_by_degradation.columns.str.capitalize()\n",
    "\n",
    "# Replace NaN with None for better markdown table formatting\n",
    "rating_by_degradation = rating_by_degradation.where(pd.notnull(rating_by_degradation), None)\n",
    "\n",
    "print(\"Rating by degradation type and intensity\\n\")\n",
    "print(rating_by_degradation.to_markdown(floatfmt=\".2f\", missingval=\"-\"))"
   ]
  },
  {
   "cell_type": "code",
   "execution_count": null,
   "metadata": {},
   "outputs": [],
   "source": []
  }
 ],
 "metadata": {
  "kernelspec": {
   "display_name": "Python 3",
   "language": "python",
   "name": "python3"
  },
  "language_info": {
   "codemirror_mode": {
    "name": "ipython",
    "version": 3
   },
   "file_extension": ".py",
   "mimetype": "text/x-python",
   "name": "python",
   "nbconvert_exporter": "python",
   "pygments_lexer": "ipython3",
   "version": "3.8.8"
  }
 },
 "nbformat": 4,
 "nbformat_minor": 4
}
