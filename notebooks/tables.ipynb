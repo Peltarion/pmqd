{
 "cells": [
  {
   "cell_type": "markdown",
   "metadata": {},
   "source": [
    "# Produce the tables for the README.md of PMQD\n",
    "\n",
    "This notebook requires `numpy`, `pandas` and `tabulate`. Uncomment below to install the requirements."
   ]
  },
  {
   "cell_type": "code",
   "execution_count": 1,
   "metadata": {},
   "outputs": [],
   "source": [
    "#!pip install numpy pandas tabulate"
   ]
  },
  {
   "cell_type": "markdown",
   "metadata": {},
   "source": [
    "----------"
   ]
  },
  {
   "cell_type": "code",
   "execution_count": 2,
   "metadata": {},
   "outputs": [],
   "source": [
    "import numpy as np\n",
    "import pandas as pd"
   ]
  },
  {
   "cell_type": "code",
   "execution_count": 3,
   "metadata": {},
   "outputs": [
    {
     "data": {
      "text/html": [
       "<div>\n",
       "<style scoped>\n",
       "    .dataframe tbody tr th:only-of-type {\n",
       "        vertical-align: middle;\n",
       "    }\n",
       "\n",
       "    .dataframe tbody tr th {\n",
       "        vertical-align: top;\n",
       "    }\n",
       "\n",
       "    .dataframe thead th {\n",
       "        text-align: right;\n",
       "    }\n",
       "</style>\n",
       "<table border=\"1\" class=\"dataframe\">\n",
       "  <thead>\n",
       "    <tr style=\"text-align: right;\">\n",
       "      <th></th>\n",
       "      <th>genre</th>\n",
       "      <th>artist</th>\n",
       "      <th>title</th>\n",
       "      <th>degradation_type</th>\n",
       "      <th>degradation_intensity</th>\n",
       "      <th>rating</th>\n",
       "      <th>sample_start</th>\n",
       "      <th>sample_filename</th>\n",
       "    </tr>\n",
       "    <tr>\n",
       "      <th>id</th>\n",
       "      <th></th>\n",
       "      <th></th>\n",
       "      <th></th>\n",
       "      <th></th>\n",
       "      <th></th>\n",
       "      <th></th>\n",
       "      <th></th>\n",
       "      <th></th>\n",
       "    </tr>\n",
       "  </thead>\n",
       "  <tbody>\n",
       "    <tr>\n",
       "      <th>833</th>\n",
       "      <td>Reggae</td>\n",
       "      <td>Martin Landh</td>\n",
       "      <td>Bona Fide</td>\n",
       "      <td>noise</td>\n",
       "      <td>36.981741</td>\n",
       "      <td>3.0</td>\n",
       "      <td>86</td>\n",
       "      <td>d18a0226ff864e4f95e59193d0afaa0c.wav</td>\n",
       "    </tr>\n",
       "    <tr>\n",
       "      <th>631</th>\n",
       "      <td>Pop</td>\n",
       "      <td>Traditional</td>\n",
       "      <td>Hark! The Herald Angels Sing Holiday Edition (...</td>\n",
       "      <td>lowpass</td>\n",
       "      <td>14.966395</td>\n",
       "      <td>5.0</td>\n",
       "      <td>115</td>\n",
       "      <td>722507c5212243e1b8e40c658034b46d.wav</td>\n",
       "    </tr>\n",
       "    <tr>\n",
       "      <th>457</th>\n",
       "      <td>Acoustic</td>\n",
       "      <td>Anders Ekengren</td>\n",
       "      <td>Soft Nylon Guitar 2</td>\n",
       "      <td>limiter</td>\n",
       "      <td>24.392448</td>\n",
       "      <td>4.0</td>\n",
       "      <td>14</td>\n",
       "      <td>c9e88c60199243919e30de6ad5d75eb9.wav</td>\n",
       "    </tr>\n",
       "    <tr>\n",
       "      <th>588</th>\n",
       "      <td>Acoustic</td>\n",
       "      <td>Gavin Luke</td>\n",
       "      <td>A Magical Evening Begins</td>\n",
       "      <td>lowpass</td>\n",
       "      <td>90.542232</td>\n",
       "      <td>4.0</td>\n",
       "      <td>0</td>\n",
       "      <td>3c7064c701b948ffb7c37bbead63d75c.wav</td>\n",
       "    </tr>\n",
       "    <tr>\n",
       "      <th>171</th>\n",
       "      <td>Latin</td>\n",
       "      <td>Magnus Ringblom</td>\n",
       "      <td>Glamorous Housewives 6</td>\n",
       "      <td>original</td>\n",
       "      <td>0.000000</td>\n",
       "      <td>4.0</td>\n",
       "      <td>115</td>\n",
       "      <td>3ab9e6d35e804657befcd7c5722b04ce.wav</td>\n",
       "    </tr>\n",
       "  </tbody>\n",
       "</table>\n",
       "</div>"
      ],
      "text/plain": [
       "        genre           artist  \\\n",
       "id                               \n",
       "833    Reggae     Martin Landh   \n",
       "631       Pop      Traditional   \n",
       "457  Acoustic  Anders Ekengren   \n",
       "588  Acoustic       Gavin Luke   \n",
       "171     Latin  Magnus Ringblom   \n",
       "\n",
       "                                                 title degradation_type  \\\n",
       "id                                                                        \n",
       "833                                          Bona Fide            noise   \n",
       "631  Hark! The Herald Angels Sing Holiday Edition (...          lowpass   \n",
       "457                                Soft Nylon Guitar 2          limiter   \n",
       "588                           A Magical Evening Begins          lowpass   \n",
       "171                             Glamorous Housewives 6         original   \n",
       "\n",
       "     degradation_intensity  rating  sample_start  \\\n",
       "id                                                 \n",
       "833              36.981741     3.0            86   \n",
       "631              14.966395     5.0           115   \n",
       "457              24.392448     4.0            14   \n",
       "588              90.542232     4.0             0   \n",
       "171               0.000000     4.0           115   \n",
       "\n",
       "                          sample_filename  \n",
       "id                                         \n",
       "833  d18a0226ff864e4f95e59193d0afaa0c.wav  \n",
       "631  722507c5212243e1b8e40c658034b46d.wav  \n",
       "457  c9e88c60199243919e30de6ad5d75eb9.wav  \n",
       "588  3c7064c701b948ffb7c37bbead63d75c.wav  \n",
       "171  3ab9e6d35e804657befcd7c5722b04ce.wav  "
      ]
     },
     "execution_count": 3,
     "metadata": {},
     "output_type": "execute_result"
    }
   ],
   "source": [
    "metadata = pd.read_csv(\"gs://pmqd/pmqd.csv\", index_col=\"id\")\n",
    "metadata.sample(n=5)"
   ]
  },
  {
   "cell_type": "code",
   "execution_count": 4,
   "metadata": {},
   "outputs": [
    {
     "name": "stdout",
     "output_type": "stream",
     "text": [
      "| Genre               | Count   |\n",
      "|:--------------------|:--------|\n",
      "| Acoustic            | 75      |\n",
      "| Blues               | 75      |\n",
      "| Classical           | 75      |\n",
      "| Country             | 75      |\n",
      "| Electronica & Dance | 75      |\n",
      "| Funk                | 75      |\n",
      "| Hip Hop             | 75      |\n",
      "| Jazz                | 75      |\n",
      "| Latin               | 75      |\n",
      "| Pop                 | 75      |\n",
      "| Reggae              | 75      |\n",
      "| Rnb & Soul          | 75      |\n",
      "| Rock                | 75      |\n",
      "| **All**             | **975** |\n"
     ]
    }
   ],
   "source": [
    "counts_by_genre = metadata.groupby(\"genre\")[\"title\"].count().reset_index()\n",
    "counts_by_genre = counts_by_genre.rename(columns={\"genre\": \"Genre\", \"title\": \"Count\"})\n",
    "counts_by_genre = counts_by_genre.append(\n",
    "    {\"Count\": f\"**{len(metadata)}**\", \"Genre\": \"**All**\"}, ignore_index=True)\n",
    "print(counts_by_genre.to_markdown(index=False))"
   ]
  },
  {
   "cell_type": "code",
   "execution_count": 5,
   "metadata": {},
   "outputs": [
    {
     "name": "stdout",
     "output_type": "stream",
     "text": [
      "Rating by degradation type and intensity\n",
      "\n",
      "| Degradation intensity   |   Distortion |   Limiter |   Lowpass |   Noise |   Original |\n",
      "|:------------------------|-------------:|----------:|----------:|--------:|-----------:|\n",
      "| [0.0, 20.0)             |         3.05 |      4.04 |      3.97 |    3.47 |       4.02 |\n",
      "| [20.0, 40.0)            |         2.69 |      3.72 |      4.00 |    3.00 |       -    |\n",
      "| [40.0, 60.0)            |         2.39 |      3.86 |      3.82 |    2.37 |       -    |\n",
      "| [60.0, 80.0)            |         2.17 |      3.90 |      3.55 |    1.78 |       -    |\n",
      "| [80.0, 100.0)           |         1.59 |      3.74 |      3.31 |    1.37 |       -    |\n"
     ]
    }
   ],
   "source": [
    "n = 5\n",
    "metadata[\"degradation_intensity_range\"] = pd.cut(\n",
    "    metadata[\"degradation_intensity\"],\n",
    "    bins=np.linspace(0, 100, n + 1),\n",
    "    right=False,\n",
    ")\n",
    "\n",
    "degradation_keys = [\"degradation_type\", \"degradation_intensity_range\"]\n",
    "rating_by_degradation = metadata.groupby(degradation_keys)[\"rating\"].mean().reset_index()\n",
    "rating_by_degradation = rating_by_degradation.pivot(\n",
    "    index=\"degradation_intensity_range\", columns=\"degradation_type\")\n",
    "rating_by_degradation.columns = rating_by_degradation.columns.droplevel()\n",
    "rating_by_degradation.index.name = \"Degradation intensity\"\n",
    "rating_by_degradation.columns = rating_by_degradation.columns.str.capitalize()\n",
    "\n",
    "# Replace NaN with None for better markdown table formatting\n",
    "rating_by_degradation = rating_by_degradation.where(pd.notnull(rating_by_degradation), None)\n",
    "\n",
    "print(\"Rating by degradation type and intensity\\n\")\n",
    "print(rating_by_degradation.to_markdown(floatfmt=\".2f\", missingval=\"-\"))"
   ]
  }
 ],
 "metadata": {
  "kernelspec": {
   "display_name": "Python 3",
   "language": "python",
   "name": "python3"
  },
  "language_info": {
   "codemirror_mode": {
    "name": "ipython",
    "version": 3
   },
   "file_extension": ".py",
   "mimetype": "text/x-python",
   "name": "python",
   "nbconvert_exporter": "python",
   "pygments_lexer": "ipython3",
   "version": "3.6.13"
  }
 },
 "nbformat": 4,
 "nbformat_minor": 4
}
