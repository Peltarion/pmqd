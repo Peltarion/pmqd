{
 "cells": [
  {
   "cell_type": "markdown",
   "metadata": {},
   "source": [
    "# Demonstrate audio degradations\n",
    "Demonstrates how the audio degradations were created for the [PMQD](github.com/Peltarion/pmqd), using the subset for unittesting the dataset code.\n",
    "\n",
    "## Dependencies\n",
    "This notebook requires both the [Reaper](https://www.reaper.fm/) commandline and `pmqd` to be installed.\n",
    " \n",
    "### Reaper\n",
    "For Mac OS, this can be installed using `brew` with (see [brew reaper formula](https://formulae.brew.sh/cask/reaper)):\n",
    "\n",
    "```console\n",
    "> brew install --cask reaper\n",
    "```\n",
    "\n",
    "You also need to make sure that `reaper` is available in the `$PATH` variable. When installing with `brew` on Mac OS add the following to your `.bashrc` or `.zshrc` (or simply run this before you start your jupyter server):\n",
    "\n",
    "```console\n",
    "export PATH=$PATH:/Applications/REAPER64.app/Contents/MacOS/ \n",
    "```\n",
    "\n",
    "### PMQD\n",
    "\n",
    "Uncomment the cell below to install `pmqd`:"
   ]
  },
  {
   "cell_type": "code",
   "execution_count": 1,
   "metadata": {},
   "outputs": [],
   "source": [
    "#!pip install git+https://github.com/Peltarion/pmqd#egg=pmqd"
   ]
  },
  {
   "cell_type": "markdown",
   "metadata": {},
   "source": [
    "---------------"
   ]
  },
  {
   "cell_type": "code",
   "execution_count": 2,
   "metadata": {},
   "outputs": [],
   "source": [
    "import os\n",
    "\n",
    "import pmqd.degradation"
   ]
  },
  {
   "cell_type": "markdown",
   "metadata": {},
   "source": [
    "Create a copy of the PMQD subset and unpack."
   ]
  },
  {
   "cell_type": "code",
   "execution_count": 3,
   "metadata": {},
   "outputs": [
    {
     "name": "stdout",
     "output_type": "stream",
     "text": [
      "x audio/\r\n",
      "x audio/d25ea6f34d6144199f00dac739323d37.wav\r\n",
      "x audio/f926612aada0494aa22a024f8960ba59.wav\r\n",
      "x audio/f2036ed7cb834a8fbbbfe335eb89d53c.wav\r\n",
      "x audio/dc21769c45fa49a0a6d6e1fadb053103.wav\r\n"
     ]
    }
   ],
   "source": [
    "!cp ../tests/dummy_data/audio.tgz .\n",
    "!tar -zxvf audio.tgz\n",
    "!mkdir -p degraded"
   ]
  },
  {
   "cell_type": "markdown",
   "metadata": {},
   "source": [
    "Prepare a list of degradation items, tuples of arguments to pmqd.degradation.degrade in order."
   ]
  },
  {
   "cell_type": "code",
   "execution_count": 4,
   "metadata": {},
   "outputs": [
    {
     "data": {
      "text/plain": [
       "[('distortion',\n",
       "  0.5,\n",
       "  'audio/d25ea6f34d6144199f00dac739323d37.wav',\n",
       "  'degraded/d25ea6f34d6144199f00dac739323d37.wav'),\n",
       " ('limiter',\n",
       "  0.1,\n",
       "  'audio/f926612aada0494aa22a024f8960ba59.wav',\n",
       "  'degraded/f926612aada0494aa22a024f8960ba59.wav'),\n",
       " ('lowpass',\n",
       "  0.2,\n",
       "  'audio/f2036ed7cb834a8fbbbfe335eb89d53c.wav',\n",
       "  'degraded/f2036ed7cb834a8fbbbfe335eb89d53c.wav'),\n",
       " ('noise',\n",
       "  0.4,\n",
       "  'audio/dc21769c45fa49a0a6d6e1fadb053103.wav',\n",
       "  'degraded/dc21769c45fa49a0a6d6e1fadb053103.wav')]"
      ]
     },
     "execution_count": 4,
     "metadata": {},
     "output_type": "execute_result"
    }
   ],
   "source": [
    "paths = os.listdir(\"audio\")\n",
    "degradation_items = list(zip(\n",
    "    pmqd.degradation.DEGRADATIONS,\n",
    "    [0.5, 0.1, 0.2, 0.4],\n",
    "    map(lambda path: os.path.join(\"audio\", path), paths),\n",
    "    map(lambda path: os.path.join(\"degraded\", path), paths)\n",
    "))\n",
    "\n",
    "\n",
    "degradation_items"
   ]
  },
  {
   "cell_type": "code",
   "execution_count": 5,
   "metadata": {},
   "outputs": [
    {
     "data": {
      "application/vnd.jupyter.widget-view+json": {
       "model_id": "5af2f3517ae54b20973c36ae9c126518",
       "version_major": 2,
       "version_minor": 0
      },
      "text/plain": [
       "  0%|          | 0/4 [00:00<?, ?it/s]"
      ]
     },
     "metadata": {},
     "output_type": "display_data"
    },
    {
     "data": {
      "text/plain": [
       "True"
      ]
     },
     "execution_count": 5,
     "metadata": {},
     "output_type": "execute_result"
    }
   ],
   "source": [
    "pmqd.degradation.degrade_all(degradation_items)"
   ]
  }
 ],
 "metadata": {
  "kernelspec": {
   "display_name": "Python 3",
   "language": "python",
   "name": "python3"
  },
  "language_info": {
   "codemirror_mode": {
    "name": "ipython",
    "version": 3
   },
   "file_extension": ".py",
   "mimetype": "text/x-python",
   "name": "python",
   "nbconvert_exporter": "python",
   "pygments_lexer": "ipython3",
   "version": "3.6.13"
  }
 },
 "nbformat": 4,
 "nbformat_minor": 4
}
